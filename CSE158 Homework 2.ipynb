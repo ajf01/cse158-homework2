{
 "cells": [
  {
   "cell_type": "code",
   "execution_count": null,
   "metadata": {},
   "outputs": [],
   "source": [
    "import numpy\n",
    "from urllib.request import urlopen\n",
    "import scipy.optimize\n",
    "import random\n",
    "from sklearn import svm\n",
    "from sklearn import linear_model\n",
    "\n",
    "def parseDataFromURL(fname):\n",
    "  for l in urlopen(fname):\n",
    "    yield eval(l)\n",
    "\n",
    "def parseData(fname):\n",
    "  for l in open(fname):\n",
    "    yield eval(l)\n",
    "\n",
    "print(\"Reading data...\")\n",
    "# Download from http://jmcauley.ucsd.edu/cse258/data/amazon/book_descriptions_50000.json\n",
    "data = list(parseData(\"data/amazon/book_descriptions_50000.json\"))\n",
    "print(\"done\")\n",
    "\n",
    "### Naive bayes to determine p(childrens book | mentions wizards and mentions witches) ###\n",
    "\n",
    "# p(childrens book)\n",
    "prior = [\"Children's Books\" in b['categories'] for b in data]\n",
    "prior = sum(prior) * 1.0 / len(prior)\n",
    "\n",
    "# p(isn't children's book)\n",
    "prior_neg = 1 - prior\n",
    "\n",
    "# p(mentions wizards | is childrens)\n",
    "p1 = ['wizard' in b['description'] for b in data if \"Children's Books\" in b['categories']]\n",
    "p1 = sum(p1) * 1.0 / len(p1)\n",
    "\n",
    "# p(mentions wizards | isn't childrens)\n",
    "p1_neg = ['wizard' in b['description'] for b in data if not (\"Children's Books\" in b['categories'])]\n",
    "p1_neg = sum(p1_neg) * 1.0 / len(p1_neg)\n",
    "\n",
    "# p(mentions witches | is childrens)\n",
    "p2 = ['witch' in b['description'] for b in data if \"Children's Books\" in b['categories']]\n",
    "p2 = sum(p2) * 1.0 / len(p2)\n",
    "\n",
    "# p(mentions witches | isn't childrens)\n",
    "p2_neg = ['witch' in b['description'] for b in data if not (\"Children's Books\" in b['categories'])]\n",
    "p2_neg = sum(p2_neg) * 1.0 / len(p2_neg)\n",
    "\n",
    "# Prediction\n",
    "\n",
    "score = prior * p1 * p2\n",
    "score_neg = prior_neg * p1_neg * p2_neg\n",
    "\n",
    "# Actual ('non-naive') probability\n",
    "\n",
    "p = [\"Children's Books\" in b['categories'] for b in data if 'witch' in b['description'] and 'wizard' in b['description']]\n",
    "p = sum(p) * 1.0 / len(p)\n",
    "\n",
    "### Logistic Regression -- \"Judging a book by its cover\"\n",
    "\n",
    "print(\"Reading data...\")\n",
    "# Download from http://jmcauley.ucsd.edu/cse255/data/amazon/book_images_5000.json\n",
    "data = list(parseData(\"data/amazon/book_images_5000.json\"))\n",
    "print(\"done\")\n",
    "\n",
    "X = [b['image_feature'] for b in data]\n",
    "y = [\"Children's Books\" in b['categories'] for b in data]\n",
    "\n",
    "X_train = X[:2500]\n",
    "y_train = y[:2500]\n",
    "\n",
    "X_test = X[2500:]\n",
    "y_test = y[2500:]\n",
    "\n",
    "# Create a support vector classifier object, with regularization parameter C = 1000\n",
    "# clf = svm.SVC(C=1000, kernel='linear')\n",
    "# clf.fit(X_train, y_train)\n",
    "\n",
    "# train_predictions = clf.predict(X_train)\n",
    "# test_predictions = clf.predict(X_test)\n",
    "\n",
    "# Logistic regression classifier\n",
    "mod = linear_model.LogisticRegression(C=1.0)\n",
    "mod.fit(X_train, y_train)\n",
    "\n",
    "train_predictions = mod.predict(X_train)\n",
    "test_predictions = mod.predict(X_test)\n",
    "\n",
    "\n",
    "### Diagnostics\n",
    "\n",
    "# From https://archive.ics.uci.edu/ml/datasets/Polish+companies+bankruptcy+data\n",
    "f = open(\"5year.arff\", 'r')\n",
    "\n",
    "# Reading in data\n",
    "while not '@data' in f.readline():\n",
    "    pass\n",
    "\n",
    "dataset = []\n",
    "for l in f:\n",
    "    if '?' in l: # Missing entry\n",
    "        continue\n",
    "    l = l.split(',')\n",
    "    values = [1] + [float(x) for x in l]\n",
    "    values[-1] = values[-1] > 0 # Convert to bool\n",
    "    dataset.append(values)\n",
    "\n",
    "# Data setup\n",
    "X = [d[:-1] for d in dataset]\n",
    "y = [d[-1] for d in dataset]\n",
    "\n",
    "# Fit model\n",
    "mod = linear_model.LogisticRegression(C=1.0)\n",
    "mod.fit(X,y)\n",
    "\n",
    "pred = mod.predict(X)\n",
    "\n",
    "# How many positive predictions?\n",
    "sum(pred)\n",
    "\n",
    "# Balanced model\n",
    "mod = linear_model.LogisticRegression(C=1.0, class_weight='balanced')\n",
    "mod.fit(X,y)\n",
    "\n",
    "pred = mod.predict(X)\n",
    "\n",
    "# How many positive predictions?\n",
    "sum(pred)\n",
    "\n",
    "# Train/validation/test splits\n",
    "\n",
    "# Shuffle the data\n",
    "Xy = list(zip(X,y))\n",
    "random.shuffle(Xy)\n",
    "\n",
    "X = [d[0] for d in Xy]\n",
    "y = [d[1] for d in Xy]\n",
    "\n",
    "N = len(y)\n",
    "\n",
    "Ntrain = 1000\n",
    "Nvalid = 1000\n",
    "Ntest = 1031\n",
    "\n",
    "Xtrain = X[:Ntrain]\n",
    "Xvalid = X[Ntrain:Ntrain+Nvalid]\n",
    "Xtest = X[Ntrain+Nvalid:]\n",
    "\n",
    "ytrain = y[:Ntrain]\n",
    "yvalid = y[Ntrain:Ntrain+Nvalid]\n",
    "ytest = y[Ntrain+Nvalid:]\n",
    "\n",
    "mod.fit(Xtrain, ytrain)\n",
    "\n",
    "pred = mod.predict(Xtest)\n",
    "\n",
    "correct = pred == ytest\n",
    "\n",
    "# True positives, false positives, etc.\n",
    "\n",
    "TP_ = numpy.logical_and(pred, ytest)\n",
    "FP_ = numpy.logical_and(pred, numpy.logical_not(ytest))\n",
    "TN_ = numpy.logical_and(numpy.logical_not(pred), numpy.logical_not(ytest))\n",
    "FN_ = numpy.logical_and(numpy.logical_not(pred), ytest)\n",
    "\n",
    "TP = sum(TP_)\n",
    "FP = sum(FP_)\n",
    "TN = sum(TN_)\n",
    "FN = sum(FN_)\n",
    "\n",
    "# accuracy\n",
    "sum(correct) / len(correct)\n",
    "(TP + TN) / (TP + FP + TN + FN)\n",
    "\n",
    "# BER\n",
    "1 - 0.5 * (TP / (TP + FN) + TN / (TN + FP))\n",
    "\n",
    "# Ranking\n",
    "\n",
    "scores = mod.decision_function(Xtest)\n",
    "\n",
    "scores_labels = list(zip(scores, ytest))\n",
    "scores_labels.sort(reverse = True)\n",
    "\n",
    "sortedlabels = [x[1] for x in scores_labels]\n",
    "\n",
    "# precision / recall\n",
    "retrieved = sum(pred)\n",
    "relevant = sum(ytest)\n",
    "intersection = sum([y and p for y,p in zip(ytest,pred)])\n",
    "\n",
    "precision = intersection / retrieved\n",
    "recall = intersection / relevant\n",
    "\n",
    "# precision at 10\n",
    "sum(sortedlabels[:10]) / 10"
   ]
  },
  {
   "cell_type": "code",
   "execution_count": 1,
   "metadata": {},
   "outputs": [],
   "source": [
    "import numpy as np\n",
    "import pandas as pd\n",
    "import networkx as nx\n",
    "import matplotlib.pyplot as plt\n",
    "\n",
    "from urllib.request import urlopen\n",
    "\n",
    "from sklearn.model_selection import train_test_split\n",
    "from sklearn.linear_model import LogisticRegression"
   ]
  },
  {
   "cell_type": "code",
   "execution_count": 2,
   "metadata": {},
   "outputs": [],
   "source": [
    "def parseData(fname):\n",
    "  for l in open(fname):\n",
    "    yield eval(l)"
   ]
  },
  {
   "cell_type": "markdown",
   "metadata": {},
   "source": [
    "# Problem 1\n",
    "# Complete"
   ]
  },
  {
   "cell_type": "code",
   "execution_count": 3,
   "metadata": {},
   "outputs": [],
   "source": [
    "parsed_beer = list(parseData(\"beer_50000.json\"))\n",
    "cat = [d['beer/style'] for d in parsed_beer]\n",
    "abv = [d['beer/ABV'] for d in parsed_beer]"
   ]
  },
  {
   "cell_type": "code",
   "execution_count": 4,
   "metadata": {},
   "outputs": [],
   "source": [
    "categoryCounts = {}\n",
    "for d in parsed_beer:\n",
    "    if d['beer/style'] not in categoryCounts.keys():\n",
    "        categoryCounts[d['beer/style']] = 0\n",
    "    categoryCounts[d['beer/style']] += 1\n",
    "categories = [c for c in categoryCounts if categoryCounts[c] > 1000]\n",
    "catID = dict(zip(list(categories),range(len(categories))))"
   ]
  },
  {
   "cell_type": "code",
   "execution_count": 5,
   "metadata": {},
   "outputs": [],
   "source": [
    "x_train, x_test, y_train, y_test = train_test_split(cat, abv, test_size=0.5)\n",
    "train_matrix = np.zeros((25000,13))\n",
    "test_matrix = np.zeros((25000,13))\n",
    "train_binary = [1 if x > 7 else 0 for x in y_train]\n",
    "test_binary = [1 if x > 7 else 0 for x in y_test]\n",
    "for x in range(len(x_train)):\n",
    "    if x_train[x] in catID.keys():\n",
    "        train_matrix[x][catID[x_train[x]]] = 1\n",
    "    if x_test[x] in catID.keys():\n",
    "        test_matrix[x][catID[x_test[x]]] = 1"
   ]
  },
  {
   "cell_type": "code",
   "execution_count": 6,
   "metadata": {},
   "outputs": [],
   "source": [
    "clf = LogisticRegression(C=10,class_weight='balanced',solver='liblinear').fit(train_matrix, train_binary)"
   ]
  },
  {
   "cell_type": "code",
   "execution_count": 7,
   "metadata": {},
   "outputs": [],
   "source": [
    "pred = clf.predict(test_matrix)"
   ]
  },
  {
   "cell_type": "code",
   "execution_count": 8,
   "metadata": {},
   "outputs": [
    {
     "data": {
      "text/plain": [
       "{'True Positive': 0.6852984239083627,\n",
       " 'False Positive': 0.01112853835237882,\n",
       " 'True Negative': 0.9888714616476212,\n",
       " 'False Negative': 0.31470157609163724,\n",
       " 'BER': 0.16291505722200805,\n",
       " 'Accuracy': 0.84788}"
      ]
     },
     "execution_count": 8,
     "metadata": {},
     "output_type": "execute_result"
    }
   ],
   "source": [
    "#Finds the True Positive, False Positive, True Negative, and False Negative array values\n",
    "TP_ = np.logical_and(pred, test_binary)\n",
    "FP_ = np.logical_and(pred, np.logical_not(test_binary))\n",
    "TN_ = np.logical_and(np.logical_not(pred), np.logical_not(test_binary))\n",
    "FN_ = np.logical_and(np.logical_not(pred), test_binary)\n",
    "\n",
    "#Finds the number of True Positive, False Positive, True Negative, and False Negative\n",
    "TP = sum(TP_)\n",
    "FP = sum(FP_)\n",
    "TN = sum(TN_)\n",
    "FN = sum(FN_)\n",
    "\n",
    "#Converts To Rates\n",
    "TPR = TP/(TP+FN)\n",
    "FPR = FP/(FP+TN)\n",
    "TNR = TN/(TN+FP)\n",
    "FNR = FN/(FN+TP)\n",
    "\n",
    "# accuracy\n",
    "#sum(correct) / len(correct)\n",
    "accuracy = (TP + TN) / (TP + FP + TN + FN)\n",
    "\n",
    "#Calculates Balanced Error Rate\n",
    "ber = 1 - 0.5 * (TP / (TP + FN) + TN / (TN + FP))\n",
    "{'BER':ber, 'Accuracy':accuracy}"
   ]
  },
  {
   "cell_type": "markdown",
   "metadata": {},
   "source": [
    "# Problem 2\n",
    "# Complete"
   ]
  },
  {
   "cell_type": "code",
   "execution_count": 9,
   "metadata": {},
   "outputs": [],
   "source": [
    "aro = [d['review/aroma'] for d in parsed_beer]\n",
    "appear = [d['review/appearance'] for d in parsed_beer]\n",
    "pal = [d['review/palate'] for d in parsed_beer]\n",
    "tas = [d['review/taste'] for d in parsed_beer]\n",
    "over = [d['review/overall'] for d in parsed_beer]\n",
    "review_len = [len(d['review/text']) for d in parsed_beer]\n",
    "stan = [x/max(review_len) for x in review_len]"
   ]
  },
  {
   "cell_type": "code",
   "execution_count": 10,
   "metadata": {},
   "outputs": [],
   "source": [
    "x_train2,x_test2,y_train2,y_test2=train_test_split(np.array([cat,aro,appear,pal,tas,over,stan]).T,abv,test_size=0.5)\n",
    "train_matrix2 = np.zeros((25000,19))\n",
    "test_matrix2 = np.zeros((25000,19))\n",
    "train_binary2 = [1 if x > 7 else 0 for x in y_train2]\n",
    "test_binary2 = [1 if x > 7 else 0 for x in y_test2]\n",
    "for x in range(len(x_train2)):\n",
    "    if x_train2[x][0] in catID.keys():\n",
    "        train_matrix2[x][catID[x_train2[x][0]]] = 1\n",
    "    if x_test2[x][0] in catID.keys():\n",
    "        test_matrix2[x][catID[x_test2[x][0]]] = 1\n",
    "    \n",
    "    train_matrix2[x][13] = x_train2[x][1]\n",
    "    train_matrix2[x][14] = x_train2[x][2]\n",
    "    train_matrix2[x][15] = x_train2[x][3]\n",
    "    train_matrix2[x][16] = x_train2[x][4]\n",
    "    train_matrix2[x][17] = x_train2[x][5]\n",
    "    train_matrix2[x][18] = x_train2[x][6]\n",
    "    \n",
    "    test_matrix2[x][13] = x_test2[x][1]\n",
    "    test_matrix2[x][14] = x_test2[x][2]\n",
    "    test_matrix2[x][15] = x_test2[x][3]\n",
    "    test_matrix2[x][16] = x_test2[x][4]\n",
    "    test_matrix2[x][17] = x_test2[x][5]\n",
    "    test_matrix2[x][18] = x_test2[x][6]"
   ]
  },
  {
   "cell_type": "code",
   "execution_count": 11,
   "metadata": {},
   "outputs": [],
   "source": [
    "clf2 = LogisticRegression(C=10,class_weight='balanced',solver='liblinear').fit(train_matrix2, train_binary2)\n",
    "pred2 = clf2.predict(test_matrix2)"
   ]
  },
  {
   "cell_type": "code",
   "execution_count": 12,
   "metadata": {},
   "outputs": [
    {
     "data": {
      "text/plain": [
       "{'True Positive': 0.7775187775187775,\n",
       " 'False Positive': 0.06819706342699561,\n",
       " 'True Negative': 0.9318029365730044,\n",
       " 'False Negative': 0.22248122248122248,\n",
       " 'BER': 0.1453391429541091,\n",
       " 'Accuracy': 0.86032}"
      ]
     },
     "execution_count": 12,
     "metadata": {},
     "output_type": "execute_result"
    }
   ],
   "source": [
    "#Finds the True Positive, False Positive, True Negative, and False Negative array values\n",
    "TP_2 = np.logical_and(pred2, test_binary2)\n",
    "FP_2 = np.logical_and(pred2, np.logical_not(test_binary2))\n",
    "TN_2 = np.logical_and(np.logical_not(pred2), np.logical_not(test_binary2))\n",
    "FN_2 = np.logical_and(np.logical_not(pred2), test_binary2)\n",
    "\n",
    "#Finds the number of True Positive, False Positive, True Negative, and False Negative\n",
    "TP2 = sum(TP_2)\n",
    "FP2 = sum(FP_2)\n",
    "TN2 = sum(TN_2)\n",
    "FN2 = sum(FN_2)\n",
    "\n",
    "#Converts To Rates\n",
    "TPR2 = TP2/(TP2+FN2)\n",
    "FPR2 = FP2/(FP2+TN2)\n",
    "TNR2 = TN2/(TN2+FP2)\n",
    "FNR2 = FN2/(FN2+TP2)\n",
    "\n",
    "# accuracy\n",
    "#sum(correct) / len(correct)\n",
    "accuracy2 = (TP2 + TN2) / (TP2 + FP2 + TN2 + FN2)\n",
    "\n",
    "#Calculates Balanced Error Rate\n",
    "ber2 = 1 - 0.5 * (TP2 / (TP2 + FN2) + TN2 / (TN2 + FP2))\n",
    "{'BER':ber2, 'Accuracy':accuracy2}"
   ]
  },
  {
   "cell_type": "markdown",
   "metadata": {},
   "source": [
    "# Problem 3\n",
    "# Create 4 logistic regression models or retrain 1 4 times with different C values\n",
    "# Keep splits from problem 2 but split the test set further in half"
   ]
  },
  {
   "cell_type": "code",
   "execution_count": 14,
   "metadata": {},
   "outputs": [],
   "source": [
    "val_x,test_x,val_y,test_y=train_test_split(test_matrix2,test_binary2,test_size=0.5)\n",
    "\n",
    "c_values = [0.000001, 0.00001, 0.0001, 0.001]\n",
    "models = [[train_matrix2,train_binary2],[val_x,val_y],[test_x,test_y]]\n",
    "berDict = {0.000001:[], 0.00001:[], 0.0001:[], 0.001:[]}\n",
    "for x in c_values:\n",
    "    for y in range(3):\n",
    "        lr = LogisticRegression(C=x,class_weight='balanced',solver='liblinear').fit(train_matrix2, train_binary2)\n",
    "        predC = lr.predict(models[y][0])\n",
    "\n",
    "        #Finds the True Positive, False Positive, True Negative, and False Negative array values\n",
    "        TP_C = np.logical_and(predC, models[y][1])\n",
    "        FP_C = np.logical_and(predC, np.logical_not(models[y][1]))\n",
    "        TN_C = np.logical_and(np.logical_not(predC), np.logical_not(models[y][1]))\n",
    "        FN_C = np.logical_and(np.logical_not(predC), models[y][1])\n",
    "\n",
    "        #Finds the number of True Positive, False Positive, True Negative, and False Negative\n",
    "        TPC = sum(TP_C)\n",
    "        FPC = sum(FP_C)\n",
    "        TNC = sum(TN_C)\n",
    "        FNC = sum(FN_C)\n",
    "\n",
    "        #Converts To Rates\n",
    "        TPRC = TPC/(TPC+FNC)\n",
    "        FPRC = FPC/(FPC+TNC)\n",
    "        TNRC = TNC/(TNC+FPC)\n",
    "        FNRC = FNC/(FNC+TPC)\n",
    "\n",
    "        #Calculates Balanced Error Rate\n",
    "        berC = 1 - 0.5 * (TPC / (TPC + FNC) + TNC / (TNC + FPC))\n",
    "        berDict[x].append(berC)"
   ]
  },
  {
   "cell_type": "code",
   "execution_count": 15,
   "metadata": {},
   "outputs": [
    {
     "data": {
      "text/plain": [
       "{1e-06: [0.5, 0.5, 0.5],\n",
       " 1e-05: [0.5, 0.5, 0.5],\n",
       " 0.0001: [0.38815437028201183, 0.3845060879628125, 0.39007704252338526],\n",
       " 0.001: [0.1594659741307387, 0.1580697293043255, 0.15940326752556233]}"
      ]
     },
     "execution_count": 15,
     "metadata": {},
     "output_type": "execute_result"
    }
   ],
   "source": [
    "berDict"
   ]
  },
  {
   "cell_type": "markdown",
   "metadata": {},
   "source": [
    "# Problem 4"
   ]
  },
  {
   "cell_type": "code",
   "execution_count": 15,
   "metadata": {},
   "outputs": [],
   "source": [
    "dfTMOR = pd.DataFrame(train_matrix2).drop(columns=[18])\n",
    "dfVXOR = pd.DataFrame(val_x).drop(columns=[18])\n",
    "dfTXOR = pd.DataFrame(test_x).drop(columns=[18])\n",
    "\n",
    "dfTMOS = pd.DataFrame(train_matrix2).drop(columns=[13,14,15,16,17])\n",
    "dfVXOS = pd.DataFrame(val_x).drop(columns=[13,14,15,16,17])\n",
    "dfTXOS = pd.DataFrame(test_x).drop(columns=[13,14,15,16,17])\n",
    "\n",
    "dfTMRS = pd.DataFrame(train_matrix2).drop(columns=[0,1,2,3,4,5,6,7,8,9,10,11,12])\n",
    "dfVXRS = pd.DataFrame(val_x).drop(columns=[0,1,2,3,4,5,6,7,8,9,10,11,12])\n",
    "dfTXRS = pd.DataFrame(test_x).drop(columns=[0,1,2,3,4,5,6,7,8,9,10,11,12])"
   ]
  },
  {
   "cell_type": "code",
   "execution_count": 16,
   "metadata": {},
   "outputs": [],
   "source": [
    "modelOR = [[dfTMOR,train_binary2],[dfVXOR,val_y],[dfTXOR,test_y]]\n",
    "berDictOR = {0.000001:[], 0.00001:[], 0.0001:[], 0.001:[]}\n",
    "for x in c_values:\n",
    "    for y in range(3):\n",
    "        warnings.filterwarnings(action='ignore')\n",
    "        lrOR = LogisticRegression(C=x,class_weight='balanced',solver='liblinear').fit(dfTMOR, train_binary2)\n",
    "        predOR = lrOR.predict(modelOR[y][0])\n",
    "\n",
    "        #Finds the True Positive, False Positive, True Negative, and False Negative array values\n",
    "        TP_OR = np.logical_and(predOR, modelOR[y][1])\n",
    "        FP_OR = np.logical_and(predOR, np.logical_not(modelOR[y][1]))\n",
    "        TN_OR = np.logical_and(np.logical_not(predOR), np.logical_not(modelOR[y][1]))\n",
    "        FN_OR = np.logical_and(np.logical_not(predOR), modelOR[y][1])\n",
    "\n",
    "        #Finds the number of True Positive, False Positive, True Negative, and False Negative\n",
    "        TPOR = sum(TP_OR)\n",
    "        FPOR = sum(FP_OR)\n",
    "        TNOR = sum(TN_OR)\n",
    "        FNOR = sum(FN_OR)\n",
    "\n",
    "        #Converts To Rates\n",
    "        TPROR = TPOR/(TPOR+FNOR)\n",
    "        FPROR = FPOR/(FPOR+TNOR)\n",
    "        TNROR = TNOR/(TNOR+FPOR)\n",
    "        FNROR = FNOR/(FNOR+TPOR)\n",
    "\n",
    "        #Calculates Balanced Error Rate\n",
    "        berOR = 1 - 0.5 * (TPOR / (TPOR + FNOR) + TNOR / (TNOR + FPOR))\n",
    "        berDictOR[x].append(berOR)"
   ]
  },
  {
   "cell_type": "code",
   "execution_count": 17,
   "metadata": {},
   "outputs": [],
   "source": [
    "modelOS = [[dfTMOS,train_binary2],[dfVXOS,val_y],[dfTXOS,test_y]]\n",
    "berDictOS = {0.000001:[], 0.00001:[], 0.0001:[], 0.001:[]}\n",
    "for x in c_values:\n",
    "    for y in range(3):\n",
    "        warnings.filterwarnings(action='ignore')\n",
    "        lrOS = LogisticRegression(C=x,class_weight='balanced',solver='liblinear').fit(dfTMOS, train_binary2)\n",
    "        predOS = lrOS.predict(modelOS[y][0])\n",
    "\n",
    "        #Finds the True Positive, False Positive, True Negative, and False Negative array values\n",
    "        TP_OS = np.logical_and(predOS, modelOS[y][1])\n",
    "        FP_OS = np.logical_and(predOS, np.logical_not(modelOS[y][1]))\n",
    "        TN_OS = np.logical_and(np.logical_not(predOS), np.logical_not(modelOS[y][1]))\n",
    "        FN_OS = np.logical_and(np.logical_not(predOS), modelOS[y][1])\n",
    "\n",
    "        #Finds the number of True Positive, False Positive, True Negative, and False Negative\n",
    "        TPOS = sum(TP_OS)\n",
    "        FPOS = sum(FP_OS)\n",
    "        TNOS = sum(TN_OS)\n",
    "        FNOS = sum(FN_OS)\n",
    "\n",
    "        #Converts To Rates\n",
    "        TPROS = TPOS/(TPOS+FNOS)\n",
    "        FPROS = FPOS/(FPOS+TNOS)\n",
    "        TNROS = TNOS/(TNOS+FPOS)\n",
    "        FNROS = FNOS/(FNOS+TPOS)\n",
    "\n",
    "        #Calculates Balanced Error Rate\n",
    "        berOS = 1 - 0.5 * (TPOS / (TPOS + FNOS) + TNOS / (TNOS + FPOS))\n",
    "        berDictOS[x].append(berOS)"
   ]
  },
  {
   "cell_type": "code",
   "execution_count": 18,
   "metadata": {},
   "outputs": [],
   "source": [
    "modelRS = [[dfTMRS,train_binary2],[dfVXRS,val_y],[dfTXRS,test_y]]\n",
    "berDictRS = {0.000001:[], 0.00001:[], 0.0001:[], 0.001:[]}\n",
    "for x in c_values:\n",
    "    for y in range(3):\n",
    "        warnings.filterwarnings(action='ignore')\n",
    "        lrRS = LogisticRegression(C=x,class_weight='balanced',solver='liblinear').fit(dfTMRS, train_binary2)\n",
    "        predRS = lrRS.predict(modelRS[y][0])\n",
    "\n",
    "        #Finds the True Positive, False Positive, True Negative, and False Negative array values\n",
    "        TP_RS = np.logical_and(predRS, modelRS[y][1])\n",
    "        FP_RS = np.logical_and(predRS, np.logical_not(modelRS[y][1]))\n",
    "        TN_RS = np.logical_and(np.logical_not(predRS), np.logical_not(modelRS[y][1]))\n",
    "        FN_RS = np.logical_and(np.logical_not(predRS), modelRS[y][1])\n",
    "\n",
    "        #Finds the number of True Positive, False Positive, True Negative, and False Negative\n",
    "        TPRS = sum(TP_RS)\n",
    "        FPRS = sum(FP_RS)\n",
    "        TNRS = sum(TN_RS)\n",
    "        FNRS = sum(FN_RS)\n",
    "\n",
    "        #Converts To Rates\n",
    "        TPRRS = TPRS/(TPRS+FNRS)\n",
    "        FPRRS = FPRS/(FPRS+TNRS)\n",
    "        TNRRS = TNRS/(TNRS+FPRS)\n",
    "        FNRRS = FNRS/(FNRS+TPRS)\n",
    "\n",
    "        #Calculates Balanced Error Rate\n",
    "        berRS = 1 - 0.5 * (TPRS / (TPRS + FNRS) + TNRS / (TNRS + FPRS))\n",
    "        berDictRS[x].append(berRS)"
   ]
  },
  {
   "cell_type": "code",
   "execution_count": 19,
   "metadata": {},
   "outputs": [
    {
     "data": {
      "text/plain": [
       "{'BER of Train,Val,Test One-Hot and Rating': {1e-06: [0.5, 0.5, 0.5],\n",
       "  1e-05: [0.5, 0.5, 0.5],\n",
       "  0.0001: [0.3914817759883479, 0.3893438104208299, 0.39663528342028376],\n",
       "  0.001: [0.1594537922683842, 0.16033979946345556, 0.1582714751911315]},\n",
       " 'BER of Train,Val,Test One-Hot and Review Length': {1e-06: [0.5, 0.5, 0.5],\n",
       "  1e-05: [0.5, 0.5, 0.5],\n",
       "  0.0001: [0.3914817759883479, 0.3893438104208299, 0.39663528342028376],\n",
       "  0.001: [0.1594537922683842, 0.16033979946345556, 0.1582714751911315]},\n",
       " 'BER of Train,Val,Test Rating and Review Length': {1e-06: [0.5, 0.5, 0.5],\n",
       "  1e-05: [0.5, 0.5, 0.5],\n",
       "  0.0001: [0.4758307258647011, 0.473684404231122, 0.4771078436765178],\n",
       "  0.001: [0.361846582795153, 0.3629030298731444, 0.35790860276354475]}}"
      ]
     },
     "execution_count": 19,
     "metadata": {},
     "output_type": "execute_result"
    }
   ],
   "source": [
    "{'BER of Train,Val,Test One-Hot and Rating': berDictOR,'BER of Train,Val,Test One-Hot and Review Length': berDictOR,\\\n",
    " 'BER of Train,Val,Test Rating and Review Length': berDictRS}"
   ]
  },
  {
   "cell_type": "markdown",
   "metadata": {},
   "source": [
    "# Problem 6\n",
    "# Complete"
   ]
  },
  {
   "cell_type": "code",
   "execution_count": 16,
   "metadata": {},
   "outputs": [],
   "source": [
    "edges = set()\n",
    "nodes = set()\n",
    "with open(\"egonet.txt\") as f:\n",
    "    for line in f.readlines():\n",
    "        coord_x, coord_y = line.rstrip(\"\\n\").split(\" \")\n",
    "        coord_x,coord_y = int(coord_x),int(coord_y)\n",
    "        edges.add((coord_x,coord_y))\n",
    "        edges.add((coord_y,coord_x))\n",
    "        nodes.add(coord_x)\n",
    "        nodes.add(coord_y)"
   ]
  },
  {
   "cell_type": "code",
   "execution_count": 17,
   "metadata": {},
   "outputs": [
    {
     "name": "stderr",
     "output_type": "stream",
     "text": [
      "C:\\Users\\afong\\Anaconda3\\lib\\site-packages\\networkx\\drawing\\nx_pylab.py:579: MatplotlibDeprecationWarning: \n",
      "The iterable function was deprecated in Matplotlib 3.1 and will be removed in 3.3. Use np.iterable instead.\n",
      "  if not cb.iterable(width):\n"
     ]
    },
    {
     "data": {
      "image/png": "[encoded data removed]",
      "text/plain": [
       "<Figure size 432x288 with 1 Axes>"
      ]
     },
     "metadata": {},
     "output_type": "display_data"
    },
    {
     "data": {
      "text/plain": [
       "<Figure size 432x288 with 0 Axes>"
      ]
     },
     "metadata": {},
     "output_type": "display_data"
    }
   ],
   "source": [
    "G = nx.Graph()\n",
    "for e in edges:\n",
    "  G.add_edge(e[0],e[1])\n",
    "nx.draw(G)\n",
    "plt.show()\n",
    "plt.clf()"
   ]
  },
  {
   "cell_type": "code",
   "execution_count": 18,
   "metadata": {},
   "outputs": [
    {
     "data": {
      "text/plain": [
       "40"
      ]
     },
     "execution_count": 18,
     "metadata": {},
     "output_type": "execute_result"
    }
   ],
   "source": [
    "len(list(nx.connected_components(G))[0])"
   ]
  },
  {
   "cell_type": "code",
   "execution_count": 19,
   "metadata": {},
   "outputs": [
    {
     "data": {
      "text/plain": [
       "{'Connected Components': 3, 'Nodes In Largest Connected Component': 40}"
      ]
     },
     "execution_count": 19,
     "metadata": {},
     "output_type": "execute_result"
    }
   ],
   "source": [
    "{'Connected Components': 3, 'Nodes In Largest Connected Component': len(list(nx.connected_components(G))[0])}"
   ]
  },
  {
   "cell_type": "markdown",
   "metadata": {},
   "source": [
    "# Problem 7"
   ]
  },
  {
   "cell_type": "code",
   "execution_count": 20,
   "metadata": {},
   "outputs": [],
   "source": [
    "largest = sorted(list(list(nx.connected_components(G))[0]))\n",
    "lowID = largest[:len(largest)//2]\n",
    "highID = largest[len(largest)//2:]"
   ]
  },
  {
   "cell_type": "code",
   "execution_count": 26,
   "metadata": {},
   "outputs": [
    {
     "data": {
      "text/plain": [
       "0.4224058769513316"
      ]
     },
     "execution_count": 26,
     "metadata": {},
     "output_type": "execute_result"
    }
   ],
   "source": [
    "nx.normalized_cut_size(G,lowID,highID)/2"
   ]
  },
  {
   "cell_type": "markdown",
   "metadata": {},
   "source": [
    "# Problem 8"
   ]
  },
  {
   "cell_type": "code",
   "execution_count": 40,
   "metadata": {},
   "outputs": [],
   "source": [
    "def normalized_cut(G,S,T,weight=None):\n",
    "    e = nx.edge_boundary(G,S,T,data=weight,default=1)\n",
    "    nce = sum(weight for u,v,weight in e)\n",
    "    vs = sum(d for v,d in G.degree(S,weight=weight))\n",
    "    vt = sum(d for v,d in G.degree(T, weight=weight))\n",
    "    return (1/2)*nce*((1/vs)+(1/vt))"
   ]
  },
  {
   "cell_type": "code",
   "execution_count": 41,
   "metadata": {},
   "outputs": [
    {
     "name": "stdout",
     "output_type": "stream",
     "text": [
      "1\n"
     ]
    },
    {
     "ename": "ZeroDivisionError",
     "evalue": "division by zero",
     "output_type": "error",
     "traceback": [
      "\u001b[1;31m---------------------------------------------------------------------------\u001b[0m",
      "\u001b[1;31mZeroDivisionError\u001b[0m                         Traceback (most recent call last)",
      "\u001b[1;32m<ipython-input-41-774eceb61ca5>\u001b[0m in \u001b[0;36m<module>\u001b[1;34m\u001b[0m\n\u001b[0;32m     14\u001b[0m         \u001b[0mhighTemp\u001b[0m\u001b[1;33m.\u001b[0m\u001b[0mappend\u001b[0m\u001b[1;33m(\u001b[0m\u001b[0mlowTemp\u001b[0m\u001b[1;33m.\u001b[0m\u001b[0mremove\u001b[0m\u001b[1;33m(\u001b[0m\u001b[0mx\u001b[0m\u001b[1;33m)\u001b[0m\u001b[1;33m)\u001b[0m\u001b[1;33m\u001b[0m\u001b[1;33m\u001b[0m\u001b[0m\n\u001b[0;32m     15\u001b[0m         \u001b[1;31m#curr_cost = nx.normalized_cut_size(G,lowTemp,highTemp)\u001b[0m\u001b[1;33m\u001b[0m\u001b[1;33m\u001b[0m\u001b[1;33m\u001b[0m\u001b[0m\n\u001b[1;32m---> 16\u001b[1;33m         \u001b[0mcurr_cost\u001b[0m \u001b[1;33m=\u001b[0m \u001b[0mnormalized_cut\u001b[0m\u001b[1;33m(\u001b[0m\u001b[0mG\u001b[0m\u001b[1;33m,\u001b[0m\u001b[0mlowTemp\u001b[0m\u001b[1;33m,\u001b[0m\u001b[0mhighTemp\u001b[0m\u001b[1;33m)\u001b[0m\u001b[1;33m\u001b[0m\u001b[1;33m\u001b[0m\u001b[0m\n\u001b[0m\u001b[0;32m     17\u001b[0m         \u001b[1;32mif\u001b[0m \u001b[0mcurr_cost\u001b[0m \u001b[1;33m<\u001b[0m \u001b[0mcut_cost\u001b[0m\u001b[1;33m:\u001b[0m\u001b[1;33m\u001b[0m\u001b[1;33m\u001b[0m\u001b[0m\n\u001b[0;32m     18\u001b[0m             \u001b[0mcut_cost\u001b[0m \u001b[1;33m=\u001b[0m \u001b[0mcurr_cost\u001b[0m\u001b[1;33m\u001b[0m\u001b[1;33m\u001b[0m\u001b[0m\n",
      "\u001b[1;32m<ipython-input-40-40aff71f9846>\u001b[0m in \u001b[0;36mnormalized_cut\u001b[1;34m(G, S, T, weight)\u001b[0m\n\u001b[0;32m      4\u001b[0m     \u001b[0mvs\u001b[0m \u001b[1;33m=\u001b[0m \u001b[0msum\u001b[0m\u001b[1;33m(\u001b[0m\u001b[0md\u001b[0m \u001b[1;32mfor\u001b[0m \u001b[0mv\u001b[0m\u001b[1;33m,\u001b[0m\u001b[0md\u001b[0m \u001b[1;32min\u001b[0m \u001b[0mG\u001b[0m\u001b[1;33m.\u001b[0m\u001b[0mdegree\u001b[0m\u001b[1;33m(\u001b[0m\u001b[0mS\u001b[0m\u001b[1;33m,\u001b[0m\u001b[0mweight\u001b[0m\u001b[1;33m=\u001b[0m\u001b[0mweight\u001b[0m\u001b[1;33m)\u001b[0m\u001b[1;33m)\u001b[0m\u001b[1;33m\u001b[0m\u001b[1;33m\u001b[0m\u001b[0m\n\u001b[0;32m      5\u001b[0m     \u001b[0mvt\u001b[0m \u001b[1;33m=\u001b[0m \u001b[0msum\u001b[0m\u001b[1;33m(\u001b[0m\u001b[0md\u001b[0m \u001b[1;32mfor\u001b[0m \u001b[0mv\u001b[0m\u001b[1;33m,\u001b[0m\u001b[0md\u001b[0m \u001b[1;32min\u001b[0m \u001b[0mG\u001b[0m\u001b[1;33m.\u001b[0m\u001b[0mdegree\u001b[0m\u001b[1;33m(\u001b[0m\u001b[0mT\u001b[0m\u001b[1;33m,\u001b[0m \u001b[0mweight\u001b[0m\u001b[1;33m=\u001b[0m\u001b[0mweight\u001b[0m\u001b[1;33m)\u001b[0m\u001b[1;33m)\u001b[0m\u001b[1;33m\u001b[0m\u001b[1;33m\u001b[0m\u001b[0m\n\u001b[1;32m----> 6\u001b[1;33m     \u001b[1;32mreturn\u001b[0m \u001b[1;33m(\u001b[0m\u001b[1;36m1\u001b[0m\u001b[1;33m/\u001b[0m\u001b[1;36m2\u001b[0m\u001b[1;33m)\u001b[0m\u001b[1;33m*\u001b[0m\u001b[0mnce\u001b[0m\u001b[1;33m*\u001b[0m\u001b[1;33m(\u001b[0m\u001b[1;33m(\u001b[0m\u001b[1;36m1\u001b[0m\u001b[1;33m/\u001b[0m\u001b[0mvs\u001b[0m\u001b[1;33m)\u001b[0m\u001b[1;33m+\u001b[0m\u001b[1;33m(\u001b[0m\u001b[1;36m1\u001b[0m\u001b[1;33m/\u001b[0m\u001b[0mvt\u001b[0m\u001b[1;33m)\u001b[0m\u001b[1;33m)\u001b[0m\u001b[1;33m\u001b[0m\u001b[1;33m\u001b[0m\u001b[0m\n\u001b[0m",
      "\u001b[1;31mZeroDivisionError\u001b[0m: division by zero"
     ]
    }
   ],
   "source": [
    "first_loop = False\n",
    "second_loop = False\n",
    "cut_cost = 0\n",
    "curr_cost = 1\n",
    "num = 0\n",
    "low = lowID\n",
    "high = highID\n",
    "while cut_cost < curr_cost:\n",
    "    change = False\n",
    "    print(1)\n",
    "    for x in low:\n",
    "        lowTemp = low\n",
    "        highTemp = high\n",
    "        highTemp.append(lowTemp.remove(x))\n",
    "        #curr_cost = nx.normalized_cut_size(G,lowTemp,highTemp)\n",
    "        curr_cost = normalized_cut(G,lowTemp,highTemp)\n",
    "        if curr_cost < cut_cost:\n",
    "            cut_cost = curr_cost\n",
    "            num = x\n",
    "            first_loop = True\n",
    "            second_loop = False\n",
    "            change = True\n",
    "    for x in high:\n",
    "        lowTemp = low\n",
    "        highTemp = high\n",
    "        lowTemp.append(highTemp.remove(x))\n",
    "        #curr_cost = nx.normalized_cut_size(G,lowTemp,highTemp)\n",
    "        curr_cost = normalized_cut(G,lowTemp,highTemp)\n",
    "        if curr_cost < cut_cost:\n",
    "            cut_cost = curr_cost\n",
    "            num = x\n",
    "            first_loop = False\n",
    "            second_loop = True\n",
    "            change = True\n",
    "    if change == True:\n",
    "        if first_loop == True:\n",
    "            high.append(low.remove(num))\n",
    "        else:\n",
    "            low.append(high.remove(num))"
   ]
  },
  {
   "cell_type": "code",
   "execution_count": 35,
   "metadata": {},
   "outputs": [
    {
     "data": {
      "text/plain": [
       "20"
      ]
     },
     "execution_count": 35,
     "metadata": {},
     "output_type": "execute_result"
    }
   ],
   "source": [
    "len(high)"
   ]
  },
  {
   "cell_type": "code",
   "execution_count": 13,
   "metadata": {},
   "outputs": [],
   "source": [
    "### Find all 3 and 4-cliques in the graph ###\n",
    "cliques3 = set()\n",
    "cliques4 = set()\n",
    "for n1 in nodes:\n",
    "  for n2 in nodes:\n",
    "    if not ((n1,n2) in edges): continue\n",
    "    for n3 in nodes:\n",
    "      if not ((n1,n3) in edges): continue\n",
    "      if not ((n2,n3) in edges): continue\n",
    "      clique = [n1,n2,n3]\n",
    "      clique.sort()\n",
    "      cliques3.add(tuple(clique))\n",
    "      for n4 in nodes:\n",
    "        if not ((n1,n4) in edges): continue\n",
    "        if not ((n2,n4) in edges): continue\n",
    "        if not ((n3,n4) in edges): continue\n",
    "        clique = [n1,n2,n3,n4]\n",
    "        clique.sort()\n",
    "        cliques4.add(tuple(clique))"
   ]
  },
  {
   "cell_type": "code",
   "execution_count": null,
   "metadata": {},
   "outputs": [],
   "source": []
  }
 ],
 "metadata": {
  "kernelspec": {
   "display_name": "Python 3",
   "language": "python",
   "name": "python3"
  },
  "language_info": {
   "codemirror_mode": {
    "name": "ipython",
    "version": 3
   },
   "file_extension": ".py",
   "mimetype": "text/x-python",
   "name": "python",
   "nbconvert_exporter": "python",
   "pygments_lexer": "ipython3",
   "version": "3.7.4"
  }
 },
 "nbformat": 4,
 "nbformat_minor": 2
}
