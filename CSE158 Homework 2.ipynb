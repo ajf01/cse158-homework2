{
 "cells": [
  {
   "cell_type": "code",
   "execution_count": 1,
   "metadata": {},
   "outputs": [],
   "source": [
    "import numpy as np\n",
    "import pandas as pd\n",
    "import pprint\n",
    "import networkx as nx\n",
    "import matplotlib.pyplot as plt\n",
    "\n",
    "from urllib.request import urlopen\n",
    "\n",
    "from sklearn.model_selection import train_test_split\n",
    "from sklearn.linear_model import LogisticRegression"
   ]
  },
  {
   "cell_type": "code",
   "execution_count": 2,
   "metadata": {},
   "outputs": [],
   "source": [
    "def parseData(fname):\n",
    "  for l in open(fname):\n",
    "    yield eval(l)"
   ]
  },
  {
   "cell_type": "markdown",
   "metadata": {},
   "source": [
    "# Problem 1"
   ]
  },
  {
   "cell_type": "code",
   "execution_count": 3,
   "metadata": {},
   "outputs": [],
   "source": [
    "#Parses the beer data\n",
    "parsed_beer = list(parseData(\"beer_50000.json\"))\n",
    "\n",
    "#Uses list comprehension to create lists of all the variables used for the predictive model\n",
    "cat = [d['beer/style'] for d in parsed_beer]\n",
    "abv = [d['beer/ABV'] for d in parsed_beer]\n",
    "aro = [d['review/aroma'] for d in parsed_beer]\n",
    "appear = [d['review/appearance'] for d in parsed_beer]\n",
    "pal = [d['review/palate'] for d in parsed_beer]\n",
    "tas = [d['review/taste'] for d in parsed_beer]\n",
    "over = [d['review/overall'] for d in parsed_beer]\n",
    "review_len = [len(d['review/text']) for d in parsed_beer]\n",
    "stan = [x/max(review_len) for x in review_len]"
   ]
  },
  {
   "cell_type": "code",
   "execution_count": 4,
   "metadata": {},
   "outputs": [],
   "source": [
    "#Loops through all beer categories to see how many times each category appears\n",
    "categoryCounts = {}\n",
    "for d in parsed_beer:\n",
    "    if d['beer/style'] not in categoryCounts.keys():\n",
    "        categoryCounts[d['beer/style']] = 0\n",
    "    categoryCounts[d['beer/style']] += 1\n",
    "\n",
    "#Stores a dictionary of the indexes for all beer category that have over 1000 appearances\n",
    "categories = [c for c in categoryCounts if categoryCounts[c] > 1000]\n",
    "catID = dict(zip(list(categories),range(len(categories))))"
   ]
  },
  {
   "cell_type": "code",
   "execution_count": 5,
   "metadata": {},
   "outputs": [],
   "source": [
    "#Splits the dataset into 50% train and 50% test\n",
    "x_train,x_test,y_train,y_test = train_test_split(np.array([cat,aro,appear,pal,tas,over,stan]).T,abv,test_size=0.5)\n",
    "\n",
    "#Creates empty matrices to allow for the one hot encoding values only\n",
    "train_matrix = np.zeros((25000,13))\n",
    "test_matrix = np.zeros((25000,13))\n",
    "\n",
    "#Converts the y_train and y_test values into binary scores for yes if over 7 and no if less then 7\n",
    "train_binary = [1 if x > 7 else 0 for x in y_train]\n",
    "test_binary = [1 if x > 7 else 0 for x in y_test]\n",
    "\n",
    "#One hot encodes the train and test matricies\n",
    "for x in range(len(x_train)):\n",
    "    if x_train[x][0] in catID.keys():\n",
    "        train_matrix[x][catID[x_train[x][0]]] = 1\n",
    "    if x_test[x][0] in catID.keys():\n",
    "        test_matrix[x][catID[x_test[x][0]]] = 1"
   ]
  },
  {
   "cell_type": "code",
   "execution_count": 6,
   "metadata": {},
   "outputs": [],
   "source": [
    "#Creates Logistic Regression model and stores prediction values\n",
    "clf = LogisticRegression(C=10,class_weight='balanced').fit(train_matrix, train_binary)\n",
    "pred = clf.predict(test_matrix)"
   ]
  },
  {
   "cell_type": "code",
   "execution_count": 7,
   "metadata": {},
   "outputs": [
    {
     "data": {
      "text/plain": [
       "{'BER': 0.1605647234430716, 'Accuracy': 0.84924}"
      ]
     },
     "execution_count": 7,
     "metadata": {},
     "output_type": "execute_result"
    }
   ],
   "source": [
    "#Finds the True Positive, False Positive, True Negative, and False Negative array values\n",
    "TP_ = np.logical_and(pred, test_binary)\n",
    "FP_ = np.logical_and(pred, np.logical_not(test_binary))\n",
    "TN_ = np.logical_and(np.logical_not(pred), np.logical_not(test_binary))\n",
    "FN_ = np.logical_and(np.logical_not(pred), test_binary)\n",
    "\n",
    "#Finds the number of True Positive, False Positive, True Negative, and False Negative\n",
    "TP = sum(TP_)\n",
    "FP = sum(FP_)\n",
    "TN = sum(TN_)\n",
    "FN = sum(FN_)\n",
    "\n",
    "#Converts To Rates\n",
    "TPR = TP/(TP+FN)\n",
    "FPR = FP/(FP+TN)\n",
    "TNR = TN/(TN+FP)\n",
    "FNR = FN/(FN+TP)\n",
    "\n",
    "# accuracy\n",
    "#sum(correct) / len(correct)\n",
    "accuracy = (TP + TN) / (TP + FP + TN + FN)\n",
    "\n",
    "#Calculates Balanced Error Rate\n",
    "ber = 1 - 0.5 * (TP / (TP + FN) + TN / (TN + FP))\n",
    "{'BER':ber, 'Accuracy':accuracy}"
   ]
  },
  {
   "cell_type": "markdown",
   "metadata": {},
   "source": [
    "# Problem 2"
   ]
  },
  {
   "cell_type": "code",
   "execution_count": 8,
   "metadata": {},
   "outputs": [],
   "source": [
    "#Creates empty matrices to allow for the one hot encoding and the rating and review length values\n",
    "train_matrix2 = np.zeros((25000,19))\n",
    "test_matrix2 = np.zeros((25000,19))\n",
    "\n",
    "#Populates the empty matricies with the proper values\n",
    "for x in range(len(x_train)):\n",
    "    if x_train[x][0] in catID.keys():\n",
    "        train_matrix2[x][catID[x_train[x][0]]] = 1\n",
    "    if x_test[x][0] in catID.keys():\n",
    "        test_matrix2[x][catID[x_test[x][0]]] = 1\n",
    "    \n",
    "    train_matrix2[x][13] = x_train[x][1]\n",
    "    train_matrix2[x][14] = x_train[x][2]\n",
    "    train_matrix2[x][15] = x_train[x][3]\n",
    "    train_matrix2[x][16] = x_train[x][4]\n",
    "    train_matrix2[x][17] = x_train[x][5]\n",
    "    train_matrix2[x][18] = x_train[x][6]\n",
    "    \n",
    "    test_matrix2[x][13] = x_test[x][1]\n",
    "    test_matrix2[x][14] = x_test[x][2]\n",
    "    test_matrix2[x][15] = x_test[x][3]\n",
    "    test_matrix2[x][16] = x_test[x][4]\n",
    "    test_matrix2[x][17] = x_test[x][5]\n",
    "    test_matrix2[x][18] = x_test[x][6]"
   ]
  },
  {
   "cell_type": "code",
   "execution_count": 9,
   "metadata": {},
   "outputs": [],
   "source": [
    "#Creates Logistic Regression model and stores prediction values\n",
    "clf2 = LogisticRegression(C=10,class_weight='balanced',max_iter=500).fit(train_matrix2, train_binary)\n",
    "pred2 = clf2.predict(test_matrix2)"
   ]
  },
  {
   "cell_type": "code",
   "execution_count": 10,
   "metadata": {},
   "outputs": [
    {
     "data": {
      "text/plain": [
       "{'BER': 0.14121878798748533, 'Accuracy': 0.86368}"
      ]
     },
     "execution_count": 10,
     "metadata": {},
     "output_type": "execute_result"
    }
   ],
   "source": [
    "#Finds the True Positive, False Positive, True Negative, and False Negative array values\n",
    "TP_2 = np.logical_and(pred2, test_binary)\n",
    "FP_2 = np.logical_and(pred2, np.logical_not(test_binary))\n",
    "TN_2 = np.logical_and(np.logical_not(pred2), np.logical_not(test_binary))\n",
    "FN_2 = np.logical_and(np.logical_not(pred2), test_binary)\n",
    "\n",
    "#Finds the number of True Positive, False Positive, True Negative, and False Negative\n",
    "TP2 = sum(TP_2)\n",
    "FP2 = sum(FP_2)\n",
    "TN2 = sum(TN_2)\n",
    "FN2 = sum(FN_2)\n",
    "\n",
    "#Converts To Rates\n",
    "TPR2 = TP2/(TP2+FN2)\n",
    "FPR2 = FP2/(FP2+TN2)\n",
    "TNR2 = TN2/(TN2+FP2)\n",
    "FNR2 = FN2/(FN2+TP2)\n",
    "\n",
    "# accuracy\n",
    "#sum(correct) / len(correct)\n",
    "accuracy2 = (TP2 + TN2) / (TP2 + FP2 + TN2 + FN2)\n",
    "\n",
    "#Calculates Balanced Error Rate\n",
    "ber2 = 1 - 0.5 * (TP2 / (TP2 + FN2) + TN2 / (TN2 + FP2))\n",
    "{'BER':ber2, 'Accuracy':accuracy2}"
   ]
  },
  {
   "cell_type": "markdown",
   "metadata": {},
   "source": [
    "# Problem 3"
   ]
  },
  {
   "cell_type": "code",
   "execution_count": 11,
   "metadata": {},
   "outputs": [],
   "source": [
    "#Keeps the splits as used in problems 1 and 2 but further splits the test sets into 50/50 so one half validation\n",
    "val_x,test_x,val_y,test_y=train_test_split(test_matrix2,test_binary,test_size=0.5)\n",
    "\n",
    "c_values = [0.000001, 0.00001, 0.0001, 0.001]\n",
    "models = [[train_matrix2,train_binary],[val_x,val_y],[test_x,test_y]]\n",
    "berDict = {0.000001:[], 0.00001:[], 0.0001:[], 0.001:[]}\n",
    "\n",
    "#Runs through all 4 C values and computes the BER of Train, Validation, and Test datasets for each C\n",
    "for x in c_values:\n",
    "    lr = LogisticRegression(C=x,class_weight='balanced',max_iter=500).fit(train_matrix2, train_binary)\n",
    "    for y in range(3):\n",
    "        predC = lr.predict(models[y][0])\n",
    "\n",
    "        #Finds the True Positive, False Positive, True Negative, and False Negative array values\n",
    "        TP_C = np.logical_and(predC, models[y][1])\n",
    "        FP_C = np.logical_and(predC, np.logical_not(models[y][1]))\n",
    "        TN_C = np.logical_and(np.logical_not(predC), np.logical_not(models[y][1]))\n",
    "        FN_C = np.logical_and(np.logical_not(predC), models[y][1])\n",
    "\n",
    "        #Finds the number of True Positive, False Positive, True Negative, and False Negative\n",
    "        TPC = sum(TP_C)\n",
    "        FPC = sum(FP_C)\n",
    "        TNC = sum(TN_C)\n",
    "        FNC = sum(FN_C)\n",
    "\n",
    "        #Converts To Rates\n",
    "        TPRC = TPC/(TPC+FNC)\n",
    "        FPRC = FPC/(FPC+TNC)\n",
    "        TNRC = TNC/(TNC+FPC)\n",
    "        FNRC = FNC/(FNC+TPC)\n",
    "\n",
    "        #Calculates Balanced Error Rate\n",
    "        berC = 1 - 0.5 * (TPC / (TPC + FNC) + TNC / (TNC + FPC))\n",
    "        berDict[x].append(berC)"
   ]
  },
  {
   "cell_type": "code",
   "execution_count": 12,
   "metadata": {},
   "outputs": [
    {
     "name": "stdout",
     "output_type": "stream",
     "text": [
      "For all C values BER from Left to Right is Train, Validation, then Test\n"
     ]
    },
    {
     "data": {
      "text/plain": [
       "{1e-06: [0.3203153573998061, 0.3162886136366819, 0.3113981699051457],\n",
       " 1e-05: [0.3183763958193091, 0.3145667599185118, 0.30982077474227854],\n",
       " 0.0001: [0.29569671441750667, 0.29420936522019225, 0.28842378233508525],\n",
       " 0.001: [0.19729327285490306, 0.1879529242938356, 0.1885960761781582]}"
      ]
     },
     "execution_count": 12,
     "metadata": {},
     "output_type": "execute_result"
    }
   ],
   "source": [
    "print('For all C values BER from Left to Right is Train, Validation, then Test')\n",
    "berDict"
   ]
  },
  {
   "cell_type": "markdown",
   "metadata": {},
   "source": [
    "Based on the BER values reported on the Train, Validation, and Test datasets accounting for the 4 different C values, I believe the best model is the one that utilizes the 0.001 C value. I believe this is the case, because it had the lowest BER values across all three datasets. When determining which model is best, in terms of generalization, it is important that the BER for both the validation and test datasets are low. This is because the train BER is meant to be lower, since the model is trained using the train data. So to check for overfitting it is important that unseen data like the validation and test sets are low as well. If it works well for unseen data then the model generalizes."
   ]
  },
  {
   "cell_type": "markdown",
   "metadata": {},
   "source": [
    "# Problem 4"
   ]
  },
  {
   "cell_type": "code",
   "execution_count": 13,
   "metadata": {},
   "outputs": [],
   "source": [
    "#Converts the matrix with all features into a DataFrame and drops the review length column\n",
    "dfTMOR = pd.DataFrame(train_matrix2).drop(columns=[18])\n",
    "dfVXOR = pd.DataFrame(val_x).drop(columns=[18])\n",
    "dfTXOR = pd.DataFrame(test_x).drop(columns=[18])\n",
    "\n",
    "#Converts the matrix with all features into a DataFrame and drops the ratings columns\n",
    "dfTMOS = pd.DataFrame(train_matrix2).drop(columns=[13,14,15,16,17])\n",
    "dfVXOS = pd.DataFrame(val_x).drop(columns=[13,14,15,16,17])\n",
    "dfTXOS = pd.DataFrame(test_x).drop(columns=[13,14,15,16,17])\n",
    "\n",
    "#Converts the matrix with all features into a DataFrame and drops the one-hot encoded category columns\n",
    "dfTMRS = pd.DataFrame(train_matrix2).drop(columns=[0,1,2,3,4,5,6,7,8,9,10,11,12])\n",
    "dfVXRS = pd.DataFrame(val_x).drop(columns=[0,1,2,3,4,5,6,7,8,9,10,11,12])\n",
    "dfTXRS = pd.DataFrame(test_x).drop(columns=[0,1,2,3,4,5,6,7,8,9,10,11,12])"
   ]
  },
  {
   "cell_type": "code",
   "execution_count": 14,
   "metadata": {},
   "outputs": [],
   "source": [
    "modelOR = [[dfTMOR,train_binary],[dfVXOR,val_y],[dfTXOR,test_y]]\n",
    "berDictOR = {0.000001:[], 0.00001:[], 0.0001:[], 0.001:[]}\n",
    "\n",
    "#Computes the BER of Train, Validation, and Test datasets for each C with review length dropped\n",
    "for x in c_values:\n",
    "    lrOR = LogisticRegression(C=x,class_weight='balanced',max_iter=500).fit(dfTMOR, train_binary)\n",
    "    for y in range(3):\n",
    "        predOR = lrOR.predict(modelOR[y][0])\n",
    "\n",
    "        #Finds the True Positive, False Positive, True Negative, and False Negative array values\n",
    "        TP_OR = np.logical_and(predOR, modelOR[y][1])\n",
    "        FP_OR = np.logical_and(predOR, np.logical_not(modelOR[y][1]))\n",
    "        TN_OR = np.logical_and(np.logical_not(predOR), np.logical_not(modelOR[y][1]))\n",
    "        FN_OR = np.logical_and(np.logical_not(predOR), modelOR[y][1])\n",
    "\n",
    "        #Finds the number of True Positive, False Positive, True Negative, and False Negative\n",
    "        TPOR = sum(TP_OR)\n",
    "        FPOR = sum(FP_OR)\n",
    "        TNOR = sum(TN_OR)\n",
    "        FNOR = sum(FN_OR)\n",
    "\n",
    "        #Converts To Rates\n",
    "        TPROR = TPOR/(TPOR+FNOR)\n",
    "        FPROR = FPOR/(FPOR+TNOR)\n",
    "        TNROR = TNOR/(TNOR+FPOR)\n",
    "        FNROR = FNOR/(FNOR+TPOR)\n",
    "\n",
    "        #Calculates Balanced Error Rate\n",
    "        berOR = 1 - 0.5 * (TPOR / (TPOR + FNOR) + TNOR / (TNOR + FPOR))\n",
    "        berDictOR[x].append(berOR)"
   ]
  },
  {
   "cell_type": "code",
   "execution_count": 15,
   "metadata": {},
   "outputs": [],
   "source": [
    "modelOS = [[dfTMOS,train_binary],[dfVXOS,val_y],[dfTXOS,test_y]]\n",
    "berDictOS = {0.000001:[], 0.00001:[], 0.0001:[], 0.001:[]}\n",
    "\n",
    "#Computes the BER of Train, Validation, and Test datasets for each C with ratings dropped\n",
    "for x in c_values:\n",
    "    lrOS = LogisticRegression(C=x,class_weight='balanced',max_iter=500).fit(dfTMOS, train_binary)\n",
    "    for y in range(3):\n",
    "        predOS = lrOS.predict(modelOS[y][0])\n",
    "\n",
    "        #Finds the True Positive, False Positive, True Negative, and False Negative array values\n",
    "        TP_OS = np.logical_and(predOS, modelOS[y][1])\n",
    "        FP_OS = np.logical_and(predOS, np.logical_not(modelOS[y][1]))\n",
    "        TN_OS = np.logical_and(np.logical_not(predOS), np.logical_not(modelOS[y][1]))\n",
    "        FN_OS = np.logical_and(np.logical_not(predOS), modelOS[y][1])\n",
    "\n",
    "        #Finds the number of True Positive, False Positive, True Negative, and False Negative\n",
    "        TPOS = sum(TP_OS)\n",
    "        FPOS = sum(FP_OS)\n",
    "        TNOS = sum(TN_OS)\n",
    "        FNOS = sum(FN_OS)\n",
    "\n",
    "        #Converts To Rates\n",
    "        TPROS = TPOS/(TPOS+FNOS)\n",
    "        FPROS = FPOS/(FPOS+TNOS)\n",
    "        TNROS = TNOS/(TNOS+FPOS)\n",
    "        FNROS = FNOS/(FNOS+TPOS)\n",
    "\n",
    "        #Calculates Balanced Error Rate\n",
    "        berOS = 1 - 0.5 * (TPOS / (TPOS + FNOS) + TNOS / (TNOS + FPOS))\n",
    "        berDictOS[x].append(berOS)"
   ]
  },
  {
   "cell_type": "code",
   "execution_count": 16,
   "metadata": {},
   "outputs": [],
   "source": [
    "modelRS = [[dfTMRS,train_binary],[dfVXRS,val_y],[dfTXRS,test_y]]\n",
    "berDictRS = {0.000001:[], 0.00001:[], 0.0001:[], 0.001:[]}\n",
    "\n",
    "#Computes the BER of Train, Validation, and Test datasets for each C with one-hot encoded categories dropped\n",
    "for x in c_values:\n",
    "    lrRS = LogisticRegression(C=x,class_weight='balanced',max_iter=500).fit(dfTMRS, train_binary)\n",
    "    for y in range(3):\n",
    "        predRS = lrRS.predict(modelRS[y][0])\n",
    "\n",
    "        #Finds the True Positive, False Positive, True Negative, and False Negative array values\n",
    "        TP_RS = np.logical_and(predRS, modelRS[y][1])\n",
    "        FP_RS = np.logical_and(predRS, np.logical_not(modelRS[y][1]))\n",
    "        TN_RS = np.logical_and(np.logical_not(predRS), np.logical_not(modelRS[y][1]))\n",
    "        FN_RS = np.logical_and(np.logical_not(predRS), modelRS[y][1])\n",
    "\n",
    "        #Finds the number of True Positive, False Positive, True Negative, and False Negative\n",
    "        TPRS = sum(TP_RS)\n",
    "        FPRS = sum(FP_RS)\n",
    "        TNRS = sum(TN_RS)\n",
    "        FNRS = sum(FN_RS)\n",
    "\n",
    "        #Converts To Rates\n",
    "        TPRRS = TPRS/(TPRS+FNRS)\n",
    "        FPRRS = FPRS/(FPRS+TNRS)\n",
    "        TNRRS = TNRS/(TNRS+FPRS)\n",
    "        FNRRS = FNRS/(FNRS+TPRS)\n",
    "\n",
    "        #Calculates Balanced Error Rate\n",
    "        berRS = 1 - 0.5 * (TPRS / (TPRS + FNRS) + TNRS / (TNRS + FPRS))\n",
    "        berDictRS[x].append(berRS)"
   ]
  },
  {
   "cell_type": "code",
   "execution_count": 17,
   "metadata": {},
   "outputs": [
    {
     "name": "stdout",
     "output_type": "stream",
     "text": [
      "For all C values BER from Left to Right is Train, Validation, then Test\n",
      "{'One-Hot and Rating BER': {1e-06: [0.3204606917467375,\n",
      "                                    0.31647350065943547,\n",
      "                                    0.31149246735243086],\n",
      "                            1e-05: [0.318591098670563,\n",
      "                                    0.3145667599185118,\n",
      "                                    0.309990669407586],\n",
      "                            0.0001: [0.29603364164122636,\n",
      "                                     0.29408693098457306,\n",
      "                                     0.2889436127466105],\n",
      "                            0.001: [0.19706865470575663,\n",
      "                                    0.1886084983569717,\n",
      "                                    0.18892651539414174]},\n",
      " 'One-Hot and Review Length BER': {1e-06: [0.3204606917467375,\n",
      "                                           0.31647350065943547,\n",
      "                                           0.31149246735243086],\n",
      "                                   1e-05: [0.318591098670563,\n",
      "                                           0.3145667599185118,\n",
      "                                           0.309990669407586],\n",
      "                                   0.0001: [0.29603364164122636,\n",
      "                                            0.29408693098457306,\n",
      "                                            0.2889436127466105],\n",
      "                                   0.001: [0.19706865470575663,\n",
      "                                           0.1886084983569717,\n",
      "                                           0.18892651539414174]},\n",
      " 'Rating and Review Length BER': {1e-06: [0.3409624284542454,\n",
      "                                          0.33930182211798665,\n",
      "                                          0.33470140408924687],\n",
      "                                  1e-05: [0.34081818723354085,\n",
      "                                          0.3389055841544355,\n",
      "                                          0.33448396254981116],\n",
      "                                  0.0001: [0.33655926457142404,\n",
      "                                           0.33477736739826525,\n",
      "                                           0.3293168939823381],\n",
      "                                  0.001: [0.32202618996692234,\n",
      "                                          0.3197622860541536,\n",
      "                                          0.31668041955505577]}}\n"
     ]
    }
   ],
   "source": [
    "print('For all C values BER from Left to Right is Train, Validation, then Test')\n",
    "pprint.pprint({'One-Hot and Rating BER': berDictOR,'One-Hot and Review Length BER': berDictOR,\\\n",
    " 'Rating and Review Length BER': berDictRS})"
   ]
  },
  {
   "cell_type": "markdown",
   "metadata": {},
   "source": [
    "# Problem 6"
   ]
  },
  {
   "cell_type": "code",
   "execution_count": 18,
   "metadata": {},
   "outputs": [],
   "source": [
    "#Creates empty sets to store the nodes and edges in a graph\n",
    "edges = set()\n",
    "nodes = set()\n",
    "\n",
    "#Reads each line of the egonet.txt file to populate the edges and nodes set\n",
    "with open(\"egonet.txt\") as f:\n",
    "    for line in f.readlines():\n",
    "        coord_x, coord_y = line.rstrip(\"\\n\").split(\" \")\n",
    "        coord_x,coord_y = int(coord_x),int(coord_y)\n",
    "        edges.add((coord_x,coord_y))\n",
    "        edges.add((coord_y,coord_x))\n",
    "        nodes.add(coord_x)\n",
    "        nodes.add(coord_y)"
   ]
  },
  {
   "cell_type": "code",
   "execution_count": 19,
   "metadata": {},
   "outputs": [
    {
     "name": "stderr",
     "output_type": "stream",
     "text": [
      "C:\\Users\\afong\\Anaconda3\\lib\\site-packages\\networkx\\drawing\\nx_pylab.py:579: MatplotlibDeprecationWarning: \n",
      "The iterable function was deprecated in Matplotlib 3.1 and will be removed in 3.3. Use np.iterable instead.\n",
      "  if not cb.iterable(width):\n"
     ]
    },
    {
     "data": {
      "image/png": "[encoded data removed]",
      "text/plain": [
       "<Figure size 432x288 with 1 Axes>"
      ]
     },
     "metadata": {},
     "output_type": "display_data"
    },
    {
     "data": {
      "text/plain": [
       "<Figure size 432x288 with 0 Axes>"
      ]
     },
     "metadata": {},
     "output_type": "display_data"
    }
   ],
   "source": [
    "#Plots a graph of each edge and node to display a visual of all connected components\n",
    "G = nx.Graph()\n",
    "for e in edges:\n",
    "  G.add_edge(e[0],e[1])\n",
    "nx.draw(G)\n",
    "plt.show()\n",
    "plt.clf()"
   ]
  },
  {
   "cell_type": "code",
   "execution_count": 20,
   "metadata": {},
   "outputs": [],
   "source": [
    "#Finds the number of connected components\n",
    "num_connect = len(list(nx.connected_components(G)))\n",
    "\n",
    "#Finds the number of nodes in the largest connected component\n",
    "num_nodes = len(max(list(nx.connected_components(G))))"
   ]
  },
  {
   "cell_type": "code",
   "execution_count": 21,
   "metadata": {},
   "outputs": [
    {
     "data": {
      "text/plain": [
       "{'Connected Components': 3, 'Nodes In Largest Connected Component': 40}"
      ]
     },
     "execution_count": 21,
     "metadata": {},
     "output_type": "execute_result"
    }
   ],
   "source": [
    "{'Connected Components': num_connect,'Nodes In Largest Connected Component': num_nodes}"
   ]
  },
  {
   "cell_type": "markdown",
   "metadata": {},
   "source": [
    "# Problem 7"
   ]
  },
  {
   "cell_type": "code",
   "execution_count": 22,
   "metadata": {},
   "outputs": [],
   "source": [
    "#Sorts a list of all the node ID in the largest connected component\n",
    "largest = sorted(list(max(list(nx.connected_components(G)))))\n",
    "\n",
    "#Splits nodes in largest connected component between small and large ID\n",
    "lowID = largest[:len(largest)//2]\n",
    "highID = largest[len(largest)//2:]"
   ]
  },
  {
   "cell_type": "code",
   "execution_count": 23,
   "metadata": {},
   "outputs": [
    {
     "data": {
      "text/plain": [
       "0.4224058769513316"
      ]
     },
     "execution_count": 23,
     "metadata": {},
     "output_type": "execute_result"
    }
   ],
   "source": [
    "#Calculates the normalized cut of the small and large ID values split early\n",
    "#Since the built in networkx normalized cut function is used I needed to divide the answer by two to represent\n",
    "#the 1/|C| constant that is multiplied in the normalized cut function shown in class\n",
    "#C is two in this case because there are two communities caused by the cut of the nodes in the largest connected\n",
    "#component into small and large ID\n",
    "#The built in networkx normalized cut function does not multiply its result by the 1/|C| constant multiplier\n",
    "#because it is meant to be used for directed graphs, but the graph here is undirected\n",
    "nx.normalized_cut_size(G,lowID,highID)/2"
   ]
  },
  {
   "cell_type": "markdown",
   "metadata": {},
   "source": [
    "# Problem 8"
   ]
  },
  {
   "cell_type": "code",
   "execution_count": 24,
   "metadata": {},
   "outputs": [],
   "source": [
    "#Creates conditionals for the while loop and to check which list should move which element\n",
    "first_loop = False\n",
    "second_loop = False\n",
    "change = True\n",
    "\n",
    "#Variables to compare current cost with lowest cost\n",
    "cut_cost = 1\n",
    "curr_cost = 10\n",
    "\n",
    "#Stores current value that led to lowest cost and copies the two lists\n",
    "num = 0\n",
    "low = lowID.copy()\n",
    "high = highID.copy()\n",
    "\n",
    "#While loop to find lowest cost split\n",
    "while change == True:\n",
    "    change = False\n",
    "    \n",
    "    #Loop through low list trying each value and checking the cost\n",
    "    for x in low:\n",
    "        lowTemp = low.copy()\n",
    "        highTemp = high.copy()\n",
    "        lowTemp.remove(x)\n",
    "        highTemp.append(x)\n",
    "        curr_cost = nx.normalized_cut_size(G,lowTemp,highTemp)/2\n",
    "        \n",
    "        #Checks to see if current cost is less than lowest cost\n",
    "        if curr_cost < cut_cost:\n",
    "            cut_cost = curr_cost\n",
    "            num = x\n",
    "            first_loop = True\n",
    "            second_loop = False\n",
    "            change = True\n",
    "        \n",
    "        #Checks to see if current and lowest cost are the same\n",
    "        if curr_cost == cut_cost:\n",
    "            if num > x:    \n",
    "                num = x\n",
    "                first_loop = True\n",
    "                second_loop = False\n",
    "                change = True\n",
    "                \n",
    "    #Loop through high list trying each value and checking the cost\n",
    "    for y in high:\n",
    "        lowTemp = low.copy()\n",
    "        highTemp = high.copy()\n",
    "        highTemp.remove(y)\n",
    "        lowTemp.append(y)\n",
    "        curr_cost = nx.normalized_cut_size(G,lowTemp,highTemp)/2\n",
    "        \n",
    "        #Checks to see if current cost is less than lowest cost\n",
    "        if curr_cost < cut_cost:\n",
    "            cut_cost = curr_cost\n",
    "            num = y\n",
    "            first_loop = False\n",
    "            second_loop = True\n",
    "            change = True\n",
    "            \n",
    "        #Checks to see if current and lowest cost are the same\n",
    "        if curr_cost == cut_cost:\n",
    "            if num > y:    \n",
    "                num = y\n",
    "                first_loop = False\n",
    "                second_loop = True\n",
    "                change = True\n",
    "                \n",
    "    #Checks to see if there was a change in cost\n",
    "    if change == True:\n",
    "        if first_loop == True:\n",
    "            low.remove(num)\n",
    "            high.append(num)\n",
    "        else:\n",
    "            high.remove(num)\n",
    "            low.append(num)"
   ]
  },
  {
   "cell_type": "code",
   "execution_count": 25,
   "metadata": {},
   "outputs": [
    {
     "data": {
      "text/plain": [
       "0.09817045961624274"
      ]
     },
     "execution_count": 25,
     "metadata": {},
     "output_type": "execute_result"
    }
   ],
   "source": [
    "cut_cost"
   ]
  },
  {
   "cell_type": "code",
   "execution_count": 26,
   "metadata": {},
   "outputs": [
    {
     "data": {
      "text/plain": [
       "[697,\n",
       " 703,\n",
       " 708,\n",
       " 713,\n",
       " 719,\n",
       " 745,\n",
       " 747,\n",
       " 753,\n",
       " 769,\n",
       " 772,\n",
       " 774,\n",
       " 798,\n",
       " 800,\n",
       " 803,\n",
       " 805,\n",
       " 810,\n",
       " 811,\n",
       " 819,\n",
       " 828,\n",
       " 823,\n",
       " 830,\n",
       " 840,\n",
       " 880,\n",
       " 890,\n",
       " 869,\n",
       " 856]"
      ]
     },
     "execution_count": 26,
     "metadata": {},
     "output_type": "execute_result"
    }
   ],
   "source": [
    "low"
   ]
  },
  {
   "cell_type": "code",
   "execution_count": 27,
   "metadata": {},
   "outputs": [
    {
     "data": {
      "text/plain": [
       "[825, 861, 863, 864, 876, 878, 882, 884, 886, 888, 889, 893, 729, 804]"
      ]
     },
     "execution_count": 27,
     "metadata": {},
     "output_type": "execute_result"
    }
   ],
   "source": [
    "high"
   ]
  },
  {
   "cell_type": "code",
   "execution_count": null,
   "metadata": {},
   "outputs": [],
   "source": []
  }
 ],
 "metadata": {
  "kernelspec": {
   "display_name": "Python 3",
   "language": "python",
   "name": "python3"
  },
  "language_info": {
   "codemirror_mode": {
    "name": "ipython",
    "version": 3
   },
   "file_extension": ".py",
   "mimetype": "text/x-python",
   "name": "python",
   "nbconvert_exporter": "python",
   "pygments_lexer": "ipython3",
   "version": "3.7.4"
  }
 },
 "nbformat": 4,
 "nbformat_minor": 2
}
